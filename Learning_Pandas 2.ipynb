{
  "metadata": {
    "kernelspec": {
      "name": "python",
      "display_name": "Python (Pyodide)",
      "language": "python"
    },
    "language_info": {
      "codemirror_mode": {
        "name": "python",
        "version": 3
      },
      "file_extension": ".py",
      "mimetype": "text/x-python",
      "name": "python",
      "nbconvert_exporter": "python",
      "pygments_lexer": "ipython3",
      "version": "3.8"
    }
  },
  "nbformat_minor": 4,
  "nbformat": 4,
  "cells": [
    {
      "cell_type": "code",
      "source": "%pip install pandas\n\n# The !pip command might be use for other environments and not Jupyter, i got an error when using that, however\n#the %pip is Jupyter's own command for installing frameworks, and note it only bring pandas 2.2",
      "metadata": {
        "trusted": true
      },
      "outputs": [],
      "execution_count": 8
    },
    {
      "cell_type": "code",
      "source": "#First Lab learning Pandas\n\nimport pandas as pd",
      "metadata": {
        "trusted": true,
        "tags": [],
        "editable": true,
        "slideshow": {
          "slide_type": ""
        }
      },
      "outputs": [],
      "execution_count": 12
    },
    {
      "cell_type": "code",
      "source": "print(pd.__version__)",
      "metadata": {
        "trusted": true
      },
      "outputs": [
        {
          "name": "stdout",
          "text": "2.2.0\n",
          "output_type": "stream"
        }
      ],
      "execution_count": 9
    },
    {
      "cell_type": "code",
      "source": "with open('your_CSV.csv', 'w') as textwritefile:\n    textwritefile.write('This is an Example csv\\n')",
      "metadata": {
        "trusted": true
      },
      "outputs": [],
      "execution_count": 15
    },
    {
      "cell_type": "code",
      "source": "#Read a CSV\n\ndf = pd.read_csv('your_CSV.csv')",
      "metadata": {
        "trusted": true
      },
      "outputs": [],
      "execution_count": 17
    },
    {
      "cell_type": "code",
      "source": "#creating a series with pandas\n\ndata = [10, 20,30, 40, 50]\ns= pd.Series(data)\n\ndata2 = ['yam', 'patoranking', 'Grease', 'Egg', 'Tomato', 'Greyhound', 'Mary', 10, 20, 30,40]\ny = pd.Series(data2)\n\nprint (s)\nprint (y)",
      "metadata": {
        "trusted": true
      },
      "outputs": [
        {
          "name": "stdout",
          "text": "0    10\n1    20\n2    30\n3    40\n4    50\ndtype: int64\n0             yam\n1     patoranking\n2          Grease\n3             Egg\n4          Tomato\n5       Greyhound\n6            Mary\n7              10\n8              20\n9              30\n10             40\ndtype: object\n",
          "output_type": "stream"
        }
      ],
      "execution_count": 21
    },
    {
      "cell_type": "code",
      "source": "print (s[4])",
      "metadata": {
        "trusted": true
      },
      "outputs": [
        {
          "name": "stdout",
          "text": "50\n",
          "output_type": "stream"
        }
      ],
      "execution_count": 7
    },
    {
      "cell_type": "code",
      "source": "print(y[6])",
      "metadata": {
        "trusted": true
      },
      "outputs": [
        {
          "name": "stdout",
          "text": "Mary\n",
          "output_type": "stream"
        }
      ],
      "execution_count": 24
    },
    {
      "cell_type": "code",
      "source": "print (s.iloc[3])",
      "metadata": {
        "trusted": true
      },
      "outputs": [
        {
          "name": "stdout",
          "text": "40\n",
          "output_type": "stream"
        }
      ],
      "execution_count": 19
    },
    {
      "cell_type": "code",
      "source": "print (s[1:4])",
      "metadata": {
        "trusted": true
      },
      "outputs": [
        {
          "name": "stdout",
          "text": "1    20\n2    30\n3    40\ndtype: int64\n",
          "output_type": "stream"
        }
      ],
      "execution_count": 26
    },
    {
      "cell_type": "code",
      "source": "# Creating a Data Frame\n\ndata = { 'Name' : ['Alex', 'Chima', 'Essien', 'Vwebga'], 'Age' : [22, 30, 25, 14], 'City' : ['Portharcourt', 'Minnesota', 'PHC', 'Lagos'], 'Gender': ['Male', 'Man', 'Malish', 'Man to be']}\ndf = pd.DataFrame(data)\n\nprint (df)\n        ",
      "metadata": {
        "trusted": true
      },
      "outputs": [
        {
          "name": "stdout",
          "text": "     Name  Age          City     Gender\n0    Alex   22  Portharcourt       Male\n1   Chima   30     Minnesota        Man\n2  Essien   25           PHC     Malish\n3  Vwebga   14         Lagos  Man to be\n",
          "output_type": "stream"
        }
      ],
      "execution_count": 29
    },
    {
      "cell_type": "code",
      "source": "print (df[['Name']])",
      "metadata": {
        "trusted": true
      },
      "outputs": [
        {
          "name": "stdout",
          "text": "     Name\n0    Alex\n1   Chima\n2  Essien\n3  Vwebga\n",
          "output_type": "stream"
        }
      ],
      "execution_count": 38
    },
    {
      "cell_type": "code",
      "source": "print (df[['Name', 'Age', 'Gender']])",
      "metadata": {
        "trusted": true
      },
      "outputs": [
        {
          "name": "stdout",
          "text": "     Name  Age     Gender\n0    Alex   22       Male\n1   Chima   30        Man\n2  Essien   25     Malish\n3  Vwebga   14  Man to be\n",
          "output_type": "stream"
        }
      ],
      "execution_count": 39
    },
    {
      "cell_type": "code",
      "source": "print (df.iloc[0])",
      "metadata": {
        "trusted": true
      },
      "outputs": [
        {
          "name": "stdout",
          "text": "Name              Alex\nAge                 22\nCity      Portharcourt\nGender            Male\nName: 0, dtype: object\n",
          "output_type": "stream"
        }
      ],
      "execution_count": 43
    },
    {
      "cell_type": "code",
      "source": "print(df.loc[0])",
      "metadata": {
        "trusted": true
      },
      "outputs": [
        {
          "name": "stdout",
          "text": "Name              Alex\nAge                 22\nCity      Portharcourt\nGender            Male\nName: 0, dtype: object\n",
          "output_type": "stream"
        }
      ],
      "execution_count": 42
    },
    {
      "cell_type": "code",
      "source": "print (df[['Name', 'Age']])",
      "metadata": {
        "trusted": true
      },
      "outputs": [
        {
          "name": "stdout",
          "text": "     Name  Age\n0    Alex   22\n1   Chima   30\n2  Essien   25\n3  Vwebga   14\n",
          "output_type": "stream"
        }
      ],
      "execution_count": 48
    },
    {
      "cell_type": "code",
      "source": "print (df [0:2])",
      "metadata": {
        "trusted": true
      },
      "outputs": [
        {
          "name": "stdout",
          "text": "    Name  Age          City Gender\n0   Alex   22  Portharcourt   Male\n1  Chima   30     Minnesota    Man\n",
          "output_type": "stream"
        }
      ],
      "execution_count": 49
    },
    {
      "cell_type": "code",
      "source": "#Usimg the unique() function in pandas to sort out unique elements\n\nUnique_Date = df['Name'].unique()\n\nprint (Unique_Date)\n",
      "metadata": {
        "trusted": true
      },
      "outputs": [
        {
          "name": "stdout",
          "text": "['Alex' 'Chima' 'Essien' 'Vwebga']\n",
          "output_type": "stream"
        }
      ],
      "execution_count": 33
    },
    {
      "cell_type": "code",
      "source": "#Using conditional filtering in Pandas\n\nhigh_above_25 = df[df['Age'] > 25]\n\nprint (high_above_25)",
      "metadata": {
        "trusted": true
      },
      "outputs": [
        {
          "name": "stdout",
          "text": "    Name  Age       City Gender\n1  Chima   30  Minnesota    Man\n",
          "output_type": "stream"
        }
      ],
      "execution_count": 34
    },
    {
      "cell_type": "code",
      "source": "below_Age_25 = df[df['Age'] <= 25]\n\nprint (below_Age_25)",
      "metadata": {
        "trusted": true
      },
      "outputs": [
        {
          "name": "stdout",
          "text": "     Name  Age          City     Gender\n0    Alex   22  Portharcourt       Male\n2  Essien   25           PHC     Malish\n3  Vwebga   14         Lagos  Man to be\n",
          "output_type": "stream"
        }
      ],
      "execution_count": 35
    },
    {
      "cell_type": "code",
      "source": "#Saving a DataFrame\n\ndf.to_csv('tradingdata.csv', index=False )",
      "metadata": {
        "trusted": true
      },
      "outputs": [],
      "execution_count": 40
    },
    {
      "cell_type": "code",
      "source": "df.size",
      "metadata": {
        "trusted": true
      },
      "outputs": [
        {
          "execution_count": 41,
          "output_type": "execute_result",
          "data": {
            "text/plain": "16"
          },
          "metadata": {}
        }
      ],
      "execution_count": 41
    },
    {
      "cell_type": "code",
      "source": "df.info('Age')",
      "metadata": {
        "trusted": true
      },
      "outputs": [
        {
          "name": "stdout",
          "text": "<class 'pandas.core.frame.DataFrame'>\nRangeIndex: 4 entries, 0 to 3\nData columns (total 4 columns):\n #   Column  Non-Null Count  Dtype \n---  ------  --------------  ----- \n 0   Name    4 non-null      object\n 1   Age     4 non-null      int64 \n 2   City    4 non-null      object\n 3   Gender  4 non-null      object\ndtypes: int64(1), object(3)\nmemory usage: 152.0+ bytes\n",
          "output_type": "stream"
        }
      ],
      "execution_count": 45
    },
    {
      "cell_type": "code",
      "source": "print (df.",
      "metadata": {
        "trusted": true
      },
      "outputs": [],
      "execution_count": null
    }
  ]
}